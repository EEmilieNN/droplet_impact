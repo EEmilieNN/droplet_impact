{
 "cells": [
  {
   "cell_type": "markdown",
   "id": "1d7f1b8b",
   "metadata": {},
   "source": [
    "# Computed results"
   ]
  },
  {
   "cell_type": "markdown",
   "id": "53dc01cc",
   "metadata": {},
   "source": [
    "## Imports"
   ]
  },
  {
   "cell_type": "markdown",
   "id": "04df8a85",
   "metadata": {},
   "source": [
    "### Install python needs"
   ]
  },
  {
   "cell_type": "code",
   "execution_count": 1,
   "id": "a39f0b98",
   "metadata": {},
   "outputs": [
    {
     "name": "stdout",
     "output_type": "stream",
     "text": [
      "Collecting git+https://github.com/EEmilieNN/droplet_impact.git\n",
      "  Cloning https://github.com/EEmilieNN/droplet_impact.git to /private/var/folders/f2/qc2dpyh901z6jbdzg2w6lt0m0000gn/T/pip-req-build-hu4rydce\n",
      "  Running command git clone --filter=blob:none --quiet https://github.com/EEmilieNN/droplet_impact.git /private/var/folders/f2/qc2dpyh901z6jbdzg2w6lt0m0000gn/T/pip-req-build-hu4rydce\n",
      "  Resolved https://github.com/EEmilieNN/droplet_impact.git to commit adb2ebb21f16ecaa967cfb4e305e8af9e0c4a1ee\n",
      "  Preparing metadata (setup.py) ... \u001b[?25ldone\n",
      "\u001b[?25hRequirement already satisfied: numpy in /Users/emilien/miniconda3/lib/python3.10/site-packages (from droplet-impact==0.1.0) (1.25.0)\n",
      "Requirement already satisfied: scipy in /Users/emilien/miniconda3/lib/python3.10/site-packages (from droplet-impact==0.1.0) (1.10.1)\n",
      "Requirement already satisfied: matplotlib in /Users/emilien/miniconda3/lib/python3.10/site-packages (from droplet-impact==0.1.0) (3.7.1)\n",
      "Requirement already satisfied: scikit-learn in /Users/emilien/miniconda3/lib/python3.10/site-packages (from droplet-impact==0.1.0) (1.3.2)\n",
      "Requirement already satisfied: joblib in /Users/emilien/miniconda3/lib/python3.10/site-packages (from droplet-impact==0.1.0) (1.3.2)\n",
      "Requirement already satisfied: pandas in /Users/emilien/miniconda3/lib/python3.10/site-packages (from droplet-impact==0.1.0) (2.2.0)\n",
      "Requirement already satisfied: contourpy>=1.0.1 in /Users/emilien/miniconda3/lib/python3.10/site-packages (from matplotlib->droplet-impact==0.1.0) (1.2.0)\n",
      "Requirement already satisfied: pillow>=6.2.0 in /Users/emilien/miniconda3/lib/python3.10/site-packages (from matplotlib->droplet-impact==0.1.0) (10.0.1)\n",
      "Requirement already satisfied: packaging>=20.0 in /Users/emilien/miniconda3/lib/python3.10/site-packages (from matplotlib->droplet-impact==0.1.0) (23.2)\n",
      "Requirement already satisfied: fonttools>=4.22.0 in /Users/emilien/miniconda3/lib/python3.10/site-packages (from matplotlib->droplet-impact==0.1.0) (4.47.2)\n",
      "Requirement already satisfied: python-dateutil>=2.7 in /Users/emilien/miniconda3/lib/python3.10/site-packages (from matplotlib->droplet-impact==0.1.0) (2.8.2)\n",
      "Requirement already satisfied: cycler>=0.10 in /Users/emilien/miniconda3/lib/python3.10/site-packages (from matplotlib->droplet-impact==0.1.0) (0.12.1)\n",
      "Requirement already satisfied: pyparsing>=2.3.1 in /Users/emilien/miniconda3/lib/python3.10/site-packages (from matplotlib->droplet-impact==0.1.0) (3.1.1)\n",
      "Requirement already satisfied: kiwisolver>=1.0.1 in /Users/emilien/miniconda3/lib/python3.10/site-packages (from matplotlib->droplet-impact==0.1.0) (1.4.5)\n",
      "Requirement already satisfied: pytz>=2020.1 in /Users/emilien/miniconda3/lib/python3.10/site-packages (from pandas->droplet-impact==0.1.0) (2023.3.post1)\n",
      "Requirement already satisfied: tzdata>=2022.7 in /Users/emilien/miniconda3/lib/python3.10/site-packages (from pandas->droplet-impact==0.1.0) (2023.4)\n",
      "Requirement already satisfied: threadpoolctl>=2.0.0 in /Users/emilien/miniconda3/lib/python3.10/site-packages (from scikit-learn->droplet-impact==0.1.0) (3.2.0)\n",
      "Requirement already satisfied: six>=1.5 in /Users/emilien/miniconda3/lib/python3.10/site-packages (from python-dateutil>=2.7->matplotlib->droplet-impact==0.1.0) (1.16.0)\n",
      "Building wheels for collected packages: droplet-impact\n",
      "  Building wheel for droplet-impact (setup.py) ... \u001b[?25ldone\n",
      "\u001b[?25h  Created wheel for droplet-impact: filename=droplet_impact-0.1.0-py3-none-any.whl size=6499084 sha256=c6bf00e7d6fa38011ad50eed994aa0cf55ff8582b0cee63b93a7a56998534360\n",
      "  Stored in directory: /private/var/folders/f2/qc2dpyh901z6jbdzg2w6lt0m0000gn/T/pip-ephem-wheel-cache-5wwaim5t/wheels/92/3c/59/d019641b5398ed9b1e39ec67e926c1f4c7a0f0e868ac9b04f6\n",
      "Successfully built droplet-impact\n",
      "Installing collected packages: droplet-impact\n",
      "Successfully installed droplet-impact-0.1.0\n",
      "Note: you may need to restart the kernel to use updated packages.\n"
     ]
    }
   ],
   "source": [
    "%pip install git+https://github.com/EEmilieNN/droplet_impact.git"
   ]
  },
  {
   "cell_type": "markdown",
   "id": "d55b8303",
   "metadata": {},
   "source": [
    "### Import packages"
   ]
  },
  {
   "cell_type": "code",
   "execution_count": 2,
   "id": "0530c276",
   "metadata": {},
   "outputs": [],
   "source": [
    "import numpy as np\n",
    "from scipy.integrate import solve_ivp\n",
    "from scipy.stats import linregress\n",
    "from sklearn.linear_model import LinearRegression\n",
    "from scipy.interpolate import RegularGridInterpolator, RBFInterpolator\n",
    "from scipy.optimize import fsolve\n",
    "import matplotlib.pyplot as plt\n",
    "from droplet_impact import utils\n",
    "import joblib"
   ]
  },
  {
   "cell_type": "markdown",
   "id": "6277ad1c",
   "metadata": {},
   "source": [
    "## Run the simulation for the values we need (already done)"
   ]
  },
  {
   "cell_type": "markdown",
   "id": "f8ba5bf2",
   "metadata": {},
   "source": [
    "It will calculate the impact speed for a lot of values and store it in impact_speed[i,j,k,l]"
   ]
  },
  {
   "cell_type": "code",
   "execution_count": null,
   "id": "c9597255",
   "metadata": {},
   "outputs": [],
   "source": [
    "import droplet_impact.config as cfg\n",
    "\n",
    "# Define the parameter ranges\n",
    "V_blade_vals =np.concatenate([np.linspace(60, 70, 15),np.linspace(70, 72.5, 4),np.linspace(72.5, 75, 4),np.linspace(75, 77.5, 4),np.linspace(77.5, 80, 4),np.linspace(80, 90, 15),np.linspace(90, 100, 15)])  # m/s\n",
    "R_vals = np.linspace(0.0001, 0.002, 50)         # m (converted from mm)\n",
    "Rc_vals = np.concatenate([np.linspace(0.01, 0.2, 30),[0.5,1]])            # m (converted from cm)\n",
    "n_vals = np.linspace(1.0, 2.0, 10)\n",
    "\n",
    "\n",
    "# Meshgrid is not necessary unless you want to loop with indices\n",
    "impact_speeds = np.empty((len(V_blade_vals), len(R_vals), len(Rc_vals), len(n_vals)))\n",
    "\n",
    "for i, V in enumerate(V_blade_vals):\n",
    "    for j, R in enumerate(R_vals):\n",
    "        for k, Rc in enumerate(Rc_vals):\n",
    "            for l, n in enumerate(n_vals):\n",
    "                # Set the configuration parameters\n",
    "                cfg.V_blade = V\n",
    "                cfg.R = R\n",
    "                cfg.Rc_alpha = Rc\n",
    "                cfg.n = n\n",
    "                cfg.vx0 = -utils.v_terminal(cfg.R*1e3)\n",
    "                cfg.vx_blade0 = cfg.V_blade\n",
    "                initial_conditions = [cfg.x0, cfg.vx0, cfg.R, cfg.va0, -1, cfg.vx_blade0]\n",
    "                # Solve your model using solve_ivp\n",
    "                impact_speeds[i, j, k, l] = utils.impact_speed_vertical(initial_conditions, time_span = (0,0.1), time_steps = np.linspace(0, 0.1, 1000000), nose_radius = cfg.Rc_alpha, n = cfg.n, initial_radius = cfg.R, blade_speed = cfg.V_blade)"
   ]
  },
  {
   "cell_type": "code",
   "execution_count": null,
   "id": "fdf62a25",
   "metadata": {},
   "outputs": [],
   "source": [
    "### Save the results to a file\n",
    "\n",
    "# np.savez_compressed('impact_speeds.npz', impact_speeds=impact_speeds, V_blade_vals=V_blade_vals, R_vals=R_vals, Rc_vals=Rc_vals, n_vals=n_vals)"
   ]
  },
  {
   "cell_type": "markdown",
   "id": "e27632c6",
   "metadata": {},
   "source": [
    "## Interpolate the values"
   ]
  },
  {
   "cell_type": "markdown",
   "id": "b3d9a1d0",
   "metadata": {},
   "source": [
    "We take the different files we have to combine them into a big file"
   ]
  },
  {
   "cell_type": "code",
   "execution_count": 2,
   "id": "b30ee727",
   "metadata": {},
   "outputs": [],
   "source": [
    "import numpy as np\n",
    "from collections import defaultdict\n",
    "\n",
    "# Define the parameter ranges\n",
    "V_blade_vals =np.concatenate([np.linspace(60, 70, 15),np.linspace(70, 72.5, 4),np.linspace(72.5, 75, 4),np.linspace(75, 77.5, 4),np.linspace(77.5, 80, 4),np.linspace(80, 90, 15),np.linspace(90, 100, 15)])  # m/s\n",
    "R_vals = np.linspace(0.0001, 0.002, 50)         # m (converted from mm)\n",
    "Rc_vals = np.concatenate([np.linspace(0.01, 0.2, 30),[0.5,1]])            # m (converted from cm)\n",
    "n_vals = np.linspace(1.0, 2.0, 10)\n",
    "\n",
    "file_paths = [\n",
    "    \"raw_data/impact_speeds_60_70.npz\",\n",
    "    \"raw_data/impact_speeds_70_72.npz\",\n",
    "    \"raw_data/impact_speeds_72_75.npz\",\n",
    "    \"raw_data/impact_speeds_75_77.npz\",\n",
    "    \"raw_data/impact_speeds_77_80.npz\",\n",
    "    \"raw_data/impact_speeds_80_90.npz\",\n",
    "    \"raw_data/impact_speeds_90_100.npz\"\n",
    "]\n",
    "\n",
    "v_blade_ranges = [\n",
    "    (60, 70, 15),\n",
    "    (70, 72.5, 4),\n",
    "    (72.5, 75, 4),\n",
    "    (75, 77.5, 4),\n",
    "    (77.5, 80, 4),\n",
    "    (80, 90, 15),\n",
    "    (90, 100, 15)\n",
    "]\n",
    "\n",
    "unique_impact_speeds = defaultdict(dict)\n",
    "\n",
    "for file_path, (v_start, v_end, step) in zip(file_paths, v_blade_ranges):\n",
    "    data = np.load(file_path)\n",
    "    impact_speeds = data['impact_speeds']\n",
    "\n",
    "    v_blade_values = np.linspace(v_start, v_end, step)\n",
    "\n",
    "    for v_blade, speed in zip(v_blade_values, impact_speeds):\n",
    "        if v_blade not in unique_impact_speeds:\n",
    "            unique_impact_speeds[v_blade] = speed\n",
    "\n",
    "sorted_v_blade = sorted(unique_impact_speeds.keys())\n",
    "combined_impact_speeds = np.array([unique_impact_speeds[v] for v in sorted_v_blade])\n",
    "\n",
    "combined_file_path = \"output_data/combined_impact_speeds.npz\"\n",
    "np.savez(combined_file_path, impact_speeds=combined_impact_speeds, v_blade=sorted_v_blade)\n",
    "\n"
   ]
  },
  {
   "cell_type": "markdown",
   "id": "3fd49c02",
   "metadata": {},
   "source": [
    "We interpolate the values into an interpolator that we export for future uses"
   ]
  },
  {
   "cell_type": "code",
   "execution_count": 3,
   "id": "0d889cad",
   "metadata": {},
   "outputs": [
    {
     "data": {
      "text/plain": [
       "['output_data/impact_speed_interpolator.pkl']"
      ]
     },
     "execution_count": 3,
     "metadata": {},
     "output_type": "execute_result"
    }
   ],
   "source": [
    "# Create a RegularGridInterpolator for the impact speeds\n",
    "from scipy.interpolate import RegularGridInterpolator\n",
    "\n",
    "data = np.load(\"output_data/combined_impact_speeds.npz\")\n",
    "impact_speeds = data['impact_speeds']\n",
    "V_blade_vals = data['v_blade']\n",
    "\n",
    "interpolator = RegularGridInterpolator(\n",
    "    (V_blade_vals, R_vals, Rc_vals, n_vals),\n",
    "    impact_speeds,\n",
    "    bounds_error=False,\n",
    "    fill_value=None\n",
    ")\n",
    "\n",
    "joblib.dump(interpolator, 'output_data/impact_speed_interpolator.pkl')"
   ]
  },
  {
   "cell_type": "markdown",
   "id": "291e3d7f",
   "metadata": {},
   "source": [
    "## Test if the interpolation is correct"
   ]
  },
  {
   "cell_type": "markdown",
   "id": "c6f8a84b",
   "metadata": {},
   "source": [
    "We calculate the min, max and average error for several points to see how far we are with the interpolation"
   ]
  },
  {
   "cell_type": "code",
   "execution_count": 4,
   "id": "d269a214",
   "metadata": {},
   "outputs": [
    {
     "name": "stderr",
     "output_type": "stream",
     "text": [
      "/Users/emilien/miniconda3/lib/python3.10/site-packages/droplet_impact/physics_model.py:165: RuntimeWarning: overflow encountered in scalar power\n",
      "  C_stat = pow(C_D_sphere,b/a) * pow(cfg.C_D_disk,1 - b/a)\n",
      "/Users/emilien/miniconda3/lib/python3.10/site-packages/droplet_impact/physics_model.py:165: RuntimeWarning: invalid value encountered in scalar multiply\n",
      "  C_stat = pow(C_D_sphere,b/a) * pow(cfg.C_D_disk,1 - b/a)\n"
     ]
    },
    {
     "ename": "KeyboardInterrupt",
     "evalue": "",
     "output_type": "error",
     "traceback": [
      "\u001b[0;31m---------------------------------------------------------------------------\u001b[0m",
      "\u001b[0;31mKeyboardInterrupt\u001b[0m                         Traceback (most recent call last)",
      "Cell \u001b[0;32mIn[4], line 7\u001b[0m\n\u001b[1;32m      5\u001b[0m             \u001b[38;5;28;01mfor\u001b[39;00m nn \u001b[38;5;129;01min\u001b[39;00m [\u001b[38;5;241m1.0\u001b[39m, \u001b[38;5;241m1.2\u001b[39m, \u001b[38;5;241m1.4\u001b[39m, \u001b[38;5;241m1.6\u001b[39m, \u001b[38;5;241m1.8\u001b[39m, \u001b[38;5;241m2.0\u001b[39m]:\n\u001b[1;32m      6\u001b[0m                 v \u001b[38;5;241m=\u001b[39m utils\u001b[38;5;241m.\u001b[39mget_impact_speed(vvv, rrr, rccc, nn)\n\u001b[0;32m----> 7\u001b[0m                 theory_v \u001b[38;5;241m=\u001b[39m \u001b[43mutils\u001b[49m\u001b[38;5;241;43m.\u001b[39;49m\u001b[43mimpact_speed_vertical\u001b[49m\u001b[43m(\u001b[49m\u001b[43m[\u001b[49m\u001b[38;5;241;43m0\u001b[39;49m\u001b[43m,\u001b[49m\u001b[43m \u001b[49m\u001b[38;5;241;43m-\u001b[39;49m\u001b[43mutils\u001b[49m\u001b[38;5;241;43m.\u001b[39;49m\u001b[43mv_terminal\u001b[49m\u001b[43m(\u001b[49m\u001b[43mrrr\u001b[49m\u001b[38;5;241;43m*\u001b[39;49m\u001b[38;5;241;43m1e3\u001b[39;49m\u001b[43m)\u001b[49m\u001b[43m,\u001b[49m\u001b[43m \u001b[49m\u001b[43mrrr\u001b[49m\u001b[43m,\u001b[49m\u001b[43m \u001b[49m\u001b[38;5;241;43m0\u001b[39;49m\u001b[43m,\u001b[49m\u001b[43m \u001b[49m\u001b[38;5;241;43m-\u001b[39;49m\u001b[38;5;241;43m1\u001b[39;49m\u001b[43m,\u001b[49m\u001b[43m \u001b[49m\u001b[43mvvv\u001b[49m\u001b[43m]\u001b[49m\u001b[43m,\u001b[49m\u001b[43m \u001b[49m\u001b[43mtime_span\u001b[49m\u001b[38;5;241;43m=\u001b[39;49m\u001b[43m(\u001b[49m\u001b[38;5;241;43m0\u001b[39;49m\u001b[43m,\u001b[49m\u001b[43m \u001b[49m\u001b[38;5;241;43m0.1\u001b[39;49m\u001b[43m)\u001b[49m\u001b[43m,\u001b[49m\u001b[43m \u001b[49m\u001b[43mtime_steps\u001b[49m\u001b[38;5;241;43m=\u001b[39;49m\u001b[43mnp\u001b[49m\u001b[38;5;241;43m.\u001b[39;49m\u001b[43mlinspace\u001b[49m\u001b[43m(\u001b[49m\u001b[38;5;241;43m0\u001b[39;49m\u001b[43m,\u001b[49m\u001b[43m \u001b[49m\u001b[38;5;241;43m0.1\u001b[39;49m\u001b[43m,\u001b[49m\u001b[43m \u001b[49m\u001b[38;5;241;43m1000000\u001b[39;49m\u001b[43m)\u001b[49m\u001b[43m,\u001b[49m\u001b[43m \u001b[49m\u001b[43mnose_radius\u001b[49m\u001b[38;5;241;43m=\u001b[39;49m\u001b[43mrccc\u001b[49m\u001b[43m,\u001b[49m\u001b[43m \u001b[49m\u001b[43mn\u001b[49m\u001b[38;5;241;43m=\u001b[39;49m\u001b[43mnn\u001b[49m\u001b[43m,\u001b[49m\u001b[43m \u001b[49m\u001b[43minitial_radius\u001b[49m\u001b[38;5;241;43m=\u001b[39;49m\u001b[43mrrr\u001b[49m\u001b[43m,\u001b[49m\u001b[43m \u001b[49m\u001b[43mblade_speed\u001b[49m\u001b[38;5;241;43m=\u001b[39;49m\u001b[43mvvv\u001b[49m\u001b[43m)\u001b[49m\n\u001b[1;32m      8\u001b[0m                 l\u001b[38;5;241m.\u001b[39mappend(\u001b[38;5;28mabs\u001b[39m(v\u001b[38;5;241m-\u001b[39mtheory_v))\n\u001b[1;32m     10\u001b[0m \u001b[38;5;28mprint\u001b[39m(\u001b[38;5;124mf\u001b[39m\u001b[38;5;124m\"\u001b[39m\u001b[38;5;130;01m\\n\u001b[39;00m\u001b[38;5;124mAverage error: \u001b[39m\u001b[38;5;132;01m{\u001b[39;00mnp\u001b[38;5;241m.\u001b[39mmean(l)\u001b[38;5;132;01m:\u001b[39;00m\u001b[38;5;124m.6f\u001b[39m\u001b[38;5;132;01m}\u001b[39;00m\u001b[38;5;124m m/s\u001b[39m\u001b[38;5;124m\"\u001b[39m)\n",
      "File \u001b[0;32m~/miniconda3/lib/python3.10/site-packages/droplet_impact/utils.py:88\u001b[0m, in \u001b[0;36mimpact_speed_vertical\u001b[0;34m(initial_conditions, time_span, time_steps, nose_radius, n, initial_radius, blade_speed)\u001b[0m\n\u001b[1;32m     86\u001b[0m mod \u001b[38;5;241m=\u001b[39m pm\u001b[38;5;241m.\u001b[39mRaindropModel(initial_conditions)\n\u001b[1;32m     87\u001b[0m events \u001b[38;5;241m=\u001b[39m [mod\u001b[38;5;241m.\u001b[39mhit_the_blade_vertical]\n\u001b[0;32m---> 88\u001b[0m sol \u001b[38;5;241m=\u001b[39m \u001b[43msolve_ivp\u001b[49m\u001b[43m(\u001b[49m\u001b[43mmod\u001b[49m\u001b[38;5;241;43m.\u001b[39;49m\u001b[43mdroplet_equations_vertical\u001b[49m\u001b[43m,\u001b[49m\u001b[43m \u001b[49m\u001b[43mtime_span\u001b[49m\u001b[43m,\u001b[49m\u001b[43m \u001b[49m\u001b[43minitial_conditions\u001b[49m\u001b[43m,\u001b[49m\u001b[43m \u001b[49m\u001b[43mt_eval\u001b[49m\u001b[38;5;241;43m=\u001b[39;49m\u001b[43mtime_steps\u001b[49m\u001b[43m,\u001b[49m\u001b[43m \u001b[49m\u001b[43mmethod\u001b[49m\u001b[38;5;241;43m=\u001b[39;49m\u001b[38;5;124;43m'\u001b[39;49m\u001b[38;5;124;43mDOP853\u001b[39;49m\u001b[38;5;124;43m'\u001b[39;49m\u001b[43m,\u001b[49m\u001b[43mevents\u001b[49m\u001b[38;5;241;43m=\u001b[39;49m\u001b[43mevents\u001b[49m\u001b[43m,\u001b[49m\u001b[43m \u001b[49m\u001b[43mrtol\u001b[49m\u001b[38;5;241;43m=\u001b[39;49m\u001b[38;5;241;43m1e-6\u001b[39;49m\u001b[43m,\u001b[49m\u001b[43m \u001b[49m\u001b[43matol\u001b[49m\u001b[38;5;241;43m=\u001b[39;49m\u001b[38;5;241;43m1e-8\u001b[39;49m\u001b[43m)\u001b[49m\n\u001b[1;32m     89\u001b[0m \u001b[38;5;28;01mreturn\u001b[39;00m blade_speed\u001b[38;5;241m-\u001b[39msol\u001b[38;5;241m.\u001b[39my[\u001b[38;5;241m1\u001b[39m,\u001b[38;5;241m-\u001b[39m\u001b[38;5;241m1\u001b[39m]\n",
      "File \u001b[0;32m~/miniconda3/lib/python3.10/site-packages/scipy/integrate/_ivp/ivp.py:647\u001b[0m, in \u001b[0;36msolve_ivp\u001b[0;34m(fun, t_span, y0, method, t_eval, dense_output, events, vectorized, args, **options)\u001b[0m\n\u001b[1;32m    645\u001b[0m \u001b[38;5;28;01mif\u001b[39;00m t_eval_step\u001b[38;5;241m.\u001b[39msize \u001b[38;5;241m>\u001b[39m \u001b[38;5;241m0\u001b[39m:\n\u001b[1;32m    646\u001b[0m     \u001b[38;5;28;01mif\u001b[39;00m sol \u001b[38;5;129;01mis\u001b[39;00m \u001b[38;5;28;01mNone\u001b[39;00m:\n\u001b[0;32m--> 647\u001b[0m         sol \u001b[38;5;241m=\u001b[39m \u001b[43msolver\u001b[49m\u001b[38;5;241;43m.\u001b[39;49m\u001b[43mdense_output\u001b[49m\u001b[43m(\u001b[49m\u001b[43m)\u001b[49m\n\u001b[1;32m    648\u001b[0m     ts\u001b[38;5;241m.\u001b[39mappend(t_eval_step)\n\u001b[1;32m    649\u001b[0m     ys\u001b[38;5;241m.\u001b[39mappend(sol(t_eval_step))\n",
      "File \u001b[0;32m~/miniconda3/lib/python3.10/site-packages/scipy/integrate/_ivp/base.py:208\u001b[0m, in \u001b[0;36mOdeSolver.dense_output\u001b[0;34m(self)\u001b[0m\n\u001b[1;32m    206\u001b[0m     \u001b[38;5;28;01mreturn\u001b[39;00m ConstantDenseOutput(\u001b[38;5;28mself\u001b[39m\u001b[38;5;241m.\u001b[39mt_old, \u001b[38;5;28mself\u001b[39m\u001b[38;5;241m.\u001b[39mt, \u001b[38;5;28mself\u001b[39m\u001b[38;5;241m.\u001b[39my)\n\u001b[1;32m    207\u001b[0m \u001b[38;5;28;01melse\u001b[39;00m:\n\u001b[0;32m--> 208\u001b[0m     \u001b[38;5;28;01mreturn\u001b[39;00m \u001b[38;5;28;43mself\u001b[39;49m\u001b[38;5;241;43m.\u001b[39;49m\u001b[43m_dense_output_impl\u001b[49m\u001b[43m(\u001b[49m\u001b[43m)\u001b[49m\n",
      "File \u001b[0;32m~/miniconda3/lib/python3.10/site-packages/scipy/integrate/_ivp/rk.py:535\u001b[0m, in \u001b[0;36mDOP853._dense_output_impl\u001b[0;34m(self)\u001b[0m\n\u001b[1;32m    532\u001b[0m F[\u001b[38;5;241m2\u001b[39m] \u001b[38;5;241m=\u001b[39m \u001b[38;5;241m2\u001b[39m \u001b[38;5;241m*\u001b[39m delta_y \u001b[38;5;241m-\u001b[39m h \u001b[38;5;241m*\u001b[39m (\u001b[38;5;28mself\u001b[39m\u001b[38;5;241m.\u001b[39mf \u001b[38;5;241m+\u001b[39m f_old)\n\u001b[1;32m    533\u001b[0m F[\u001b[38;5;241m3\u001b[39m:] \u001b[38;5;241m=\u001b[39m h \u001b[38;5;241m*\u001b[39m np\u001b[38;5;241m.\u001b[39mdot(\u001b[38;5;28mself\u001b[39m\u001b[38;5;241m.\u001b[39mD, K)\n\u001b[0;32m--> 535\u001b[0m \u001b[38;5;28;01mreturn\u001b[39;00m \u001b[43mDop853DenseOutput\u001b[49m\u001b[43m(\u001b[49m\u001b[38;5;28;43mself\u001b[39;49m\u001b[38;5;241;43m.\u001b[39;49m\u001b[43mt_old\u001b[49m\u001b[43m,\u001b[49m\u001b[43m \u001b[49m\u001b[38;5;28;43mself\u001b[39;49m\u001b[38;5;241;43m.\u001b[39;49m\u001b[43mt\u001b[49m\u001b[43m,\u001b[49m\u001b[43m \u001b[49m\u001b[38;5;28;43mself\u001b[39;49m\u001b[38;5;241;43m.\u001b[39;49m\u001b[43my_old\u001b[49m\u001b[43m,\u001b[49m\u001b[43m \u001b[49m\u001b[43mF\u001b[49m\u001b[43m)\u001b[49m\n",
      "File \u001b[0;32m~/miniconda3/lib/python3.10/site-packages/scipy/integrate/_ivp/rk.py:564\u001b[0m, in \u001b[0;36mDop853DenseOutput.__init__\u001b[0;34m(self, t_old, t, y_old, F)\u001b[0m\n\u001b[1;32m    563\u001b[0m \u001b[38;5;28;01mclass\u001b[39;00m \u001b[38;5;21;01mDop853DenseOutput\u001b[39;00m(DenseOutput):\n\u001b[0;32m--> 564\u001b[0m     \u001b[38;5;28;01mdef\u001b[39;00m \u001b[38;5;21m__init__\u001b[39m(\u001b[38;5;28mself\u001b[39m, t_old, t, y_old, F):\n\u001b[1;32m    565\u001b[0m         \u001b[38;5;28msuper\u001b[39m()\u001b[38;5;241m.\u001b[39m\u001b[38;5;21m__init__\u001b[39m(t_old, t)\n\u001b[1;32m    566\u001b[0m         \u001b[38;5;28mself\u001b[39m\u001b[38;5;241m.\u001b[39mh \u001b[38;5;241m=\u001b[39m t \u001b[38;5;241m-\u001b[39m t_old\n",
      "\u001b[0;31mKeyboardInterrupt\u001b[0m: "
     ]
    }
   ],
   "source": [
    "l =[]\n",
    "for vvv in [60,70,80,90,100]:\n",
    "    for rrr in [0.2e-3, 0.49e-3, 0.76e-3,1e-3]:\n",
    "        for rccc in [0.01, 0.05, 0.1, 0.2]:\n",
    "            for nn in [1.0, 1.2, 1.4, 1.6, 1.8, 2.0]:\n",
    "                v = utils.get_impact_speed(vvv, rrr, rccc, nn)\n",
    "                theory_v = utils.impact_speed_vertical([0, -utils.v_terminal(rrr*1e3), rrr, 0, -1, vvv], time_span=(0, 0.1), time_steps=np.linspace(0, 0.1, 1000000), nose_radius=rccc, n=nn, initial_radius=rrr, blade_speed=vvv)\n",
    "                l.append(abs(v-theory_v))\n",
    "\n",
    "print(f\"\\nAverage error: {np.mean(l):.6f} m/s\")\n",
    "print(f\"Max error: {np.max(l):.6f} m/s\")\n",
    "print(f\"Min error: {np.min(l):.6f} m/s\")"
   ]
  }
 ],
 "metadata": {
  "kernelspec": {
   "display_name": "base",
   "language": "python",
   "name": "python3"
  },
  "language_info": {
   "codemirror_mode": {
    "name": "ipython",
    "version": 3
   },
   "file_extension": ".py",
   "mimetype": "text/x-python",
   "name": "python",
   "nbconvert_exporter": "python",
   "pygments_lexer": "ipython3",
   "version": "3.10.11"
  }
 },
 "nbformat": 4,
 "nbformat_minor": 5
}
